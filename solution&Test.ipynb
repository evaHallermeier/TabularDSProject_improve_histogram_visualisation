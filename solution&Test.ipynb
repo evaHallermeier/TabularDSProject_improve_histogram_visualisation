{
 "cells": [
  {
   "cell_type": "markdown",
   "metadata": {
    "id": "qMG3Njwrs9Il"
   },
   "source": [
    "# **Tabular Data Science project - Method and testing**\n",
    "**Team:** Amebet Belachew, Eva Hallermeier\n",
    "\n",
    "\n",
    "Reminder: The problem is developping a method that find the proper number of bins for the histogram of a given feature in a given dataset . The goal is to find the optimal value that give an histogram that represents the distribution of data as part of the EDA process.\n",
    "In this notebook we aimed to present and validate a method, which we arrived at based on the exploration we did earlier (in a separated notebook), for automatically selecting the number of bins in a given dataset."
   ]
  },
  {
   "cell_type": "markdown",
   "metadata": {
    "id": "OTYUYeMl0HMV"
   },
   "source": [
    "Nowadays it is still difficult and an open question to define the goodness of a **'good'** histogram.\n",
    "Our definition for our experiment is: a good bins size is a bins size which allows us to infer the general distribution of data and gives us a smooth histogram.\n",
    "\n",
    "Now, after we explored bins sizes of histograms with various datasets and features with the existing methods, we conclude that almost always, the bins size that was a good choice is **the smallest number among the numbers of the various existing methods (with few conditions).**"
   ]
  },
  {
   "cell_type": "markdown",
   "metadata": {
    "id": "uALHHlSV9W-g"
   },
   "source": [
    "# Introducing the solution"
   ]
  },
  {
   "cell_type": "markdown",
   "metadata": {
    "id": "EjEeNgZl_FBX"
   },
   "source": [
    "## Import libraries "
   ]
  },
  {
   "cell_type": "code",
   "execution_count": 100,
   "metadata": {
    "id": "YF-_8ooJYIW9"
   },
   "outputs": [],
   "source": [
    "import pandas as pd\n",
    "import matplotlib.pyplot as plt\n",
    "import numpy as np\n",
    "import seaborn as sns\n",
    "import sklearn.datasets\n",
    "from sklearn.model_selection import train_test_split\n",
    "from sklearn.utils import shuffle\n",
    "import utils"
   ]
  },
  {
   "cell_type": "markdown",
   "metadata": {
    "id": "hNG4e7Owc1V4"
   },
   "source": [
    "# The method for computing the optimal number of bins for histogram"
   ]
  },
  {
   "cell_type": "markdown",
   "metadata": {
    "id": "UzWejflIApRk"
   },
   "source": [
    "As we said above, we defined that a good bins size is a bins size which allows us to infer the **general distribution** of the data and gives us a **smooth histogram**.\n",
    "\n",
    "**Explanation of the method**:\n",
    "\n",
    "- init the value of the number of bins with the amount of unique values (but it can be too big if there are many different values).The explanation for this is that during the experimental phase we noticed that there are methods whose number of bins is sometimes more than the amount of the unique values, which of course does not make sense. This value will be the maximal possible value that our method can return.\n",
    "- finds the minimum bins size among the existing methods from a list if they return a value smaller that the number of unique values.\n",
    " <br>"
   ]
  },
  {
   "cell_type": "code",
   "execution_count": 101,
   "metadata": {
    "id": "k246YB_vA9At"
   },
   "outputs": [],
   "source": [
    "method_list =['auto', 'fd', 'doane', 'scott', 'sturges']\n",
    "\n",
    "def getNbBins(df, feature):\n",
    "  unique_values=df[feature].nunique() #nb of different values\n",
    "  bins_list = []\n",
    "  for m in method_list:\n",
    "    nb_bins = len(np.histogram_bin_edges(df[feature], bins=m))\n",
    "    bins_list.append(nb_bins)\n",
    "  min_value = min(bins_list)\n",
    "  if min_value < unique_values:\n",
    "    i = bins_list.index(min_value)\n",
    "    min_method = method_list[i]\n",
    "    return min_value, min_method\n",
    "  else:\n",
    "    return unique_values, \"unique_values_amount\""
   ]
  },
  {
   "cell_type": "code",
   "execution_count": 102,
   "metadata": {
    "id": "XaYo9u_sda80"
   },
   "outputs": [],
   "source": [
    "#receive a dataset and a list of features and show histograms with number of bins computed\n",
    "def print_result(df, features, df_name):\n",
    "  for f in features:\n",
    "    b, m = getNbBins(df,f) #call the method\n",
    "    fig, ax = plt.subplots(figsize=(6,4))\n",
    "    fig.suptitle(f'Feature {f} from dataset \"{df_name}\" -- The method is {m} with {b} bins',fontsize=14)\n",
    "    df[f].hist(ax=ax, bins=b)\n",
    "  return b"
   ]
  },
  {
   "cell_type": "markdown",
   "metadata": {
    "id": "A0ztfPIdhtn0"
   },
   "source": [
    "# Testing the method: \n",
    "Apply it on new datasets and test if the distribution propose by the histogram is similar between test and train set"
   ]
  },
  {
   "cell_type": "code",
   "execution_count": 103,
   "metadata": {
    "id": "8o1DMrdzQymD"
   },
   "outputs": [],
   "source": [
    "threshold_for_difference= 0.01"
   ]
  },
  {
   "cell_type": "markdown",
   "metadata": {
    "id": "xPzl0HnHMd8v"
   },
   "source": [
    "### Data analysis and visualization methods"
   ]
  },
  {
   "cell_type": "code",
   "execution_count": 104,
   "metadata": {
    "id": "KJlINvKOd9Cb"
   },
   "outputs": [],
   "source": [
    "def plot_dual_histogram(df_train, df_test, feature, bins):\n",
    "    fig, ax = plt.subplots(figsize=(10, 5))\n",
    "    \n",
    "    # Create the first histogram.\n",
    "    h1 =sns.histplot(df_train, x=feature, ax=ax, kde=True, color='C0',bins = bins, alpha=0.3)\n",
    "    print(h1.get_xaxis()) \n",
    "   \n",
    "    # Create the second histogram.\n",
    "    h2= sns.histplot(df_test, x=feature, ax=ax, kde=True, color='C1',bins=bins, alpha=0.3)\n",
    "    \n",
    "    # Set axis labels and title.\n",
    "    ax.set_xlabel(\"Value\")\n",
    "    ax.set_ylabel(\"Count\")\n",
    "    ax.set_title(f\"Train vs. Test\")\n",
    "\n",
    "    # Add a legend.\n",
    "    ax.legend([\"train\", \"test\"])\n",
    "    return [h1,h2]"
   ]
  },
  {
   "cell_type": "code",
   "execution_count": 105,
   "metadata": {
    "id": "GyWvt_AXMUIx"
   },
   "outputs": [],
   "source": [
    "# def getDS_size(df):\n",
    "#   nb_cols = len(df.axes[1])\n",
    "#   nb_samples = len(df.axes[0])\n",
    "#   print(f\"There are {nb_cols} columns\")\n",
    "#   print(f\"There are {nb_samples} samples\")\n",
    "\n",
    "# def getFeatureInfo(df, f):\n",
    "#   print(\"Feature name: \", f)\n",
    "#   feature = df[f]\n",
    "#   rangeValues = feature.describe().max() - feature.describe().min()\n",
    "#   print(f\"Amplitude of values: {rangeValues}\")\n",
    "#   nb_samples=len(df.axes[0])\n",
    "#   counts = df[f].nunique()\n",
    "#   print(\"Nb of different values in the feature: \", counts)\n",
    "#   print(f\"Range of values: {feature.min()}  - {df[f].max()}\")\n",
    "#   print(f\"Nb of samples for this feature : {feature.shape[0]}\")"
   ]
  },
  {
   "cell_type": "code",
   "execution_count": 106,
   "metadata": {
    "id": "WsOZLssef5rY"
   },
   "outputs": [],
   "source": [
    "def print_histogram_partition(data, num_bins, hist_range=None):\n",
    "    hist, bin_edges = np.histogram(data, bins=num_bins, range=hist_range)\n",
    "    #print(\"hist len\", len(hist))\n",
    "    # for i in range(len(hist)):\n",
    "    #     print(f\"bin {i}: {bin_edges[i]} - {bin_edges[i+1]}: {hist[i]}\")\n",
    "    return hist"
   ]
  },
  {
   "cell_type": "code",
   "execution_count": 107,
   "metadata": {
    "id": "co7wSkP1Oj5N"
   },
   "outputs": [],
   "source": [
    "def computeDif(a, b, s):\n",
    "  x = 0\n",
    "  for i in range(len(a)):\n",
    "    x = x + abs(a[i]-b[i])\n",
    "  x=x/s\n",
    "  return x"
   ]
  },
  {
   "cell_type": "code",
   "execution_count": 108,
   "metadata": {
    "id": "pYmrP3heOmuW"
   },
   "outputs": [],
   "source": [
    "def printDifference(df_train,df_test,feature,bins_size):\n",
    "  count1 = print_histogram_partition(df_train[feature], bins_size)\n",
    "  count2 = print_histogram_partition(df_test[feature], bins_size)\n",
    "  count1 = np.true_divide(count1, count1.sum(axis=0, keepdims=True))\n",
    "  count2 = np.true_divide(count2, count2.sum(axis=0, keepdims=True))\n",
    "  # print(\"train bins:\",count1)\n",
    "  # print(\"test bins:\",count2)\n",
    "  a = round(computeDif(count1, count2, bins_size), 5)\n",
    "  # corr = np.corrcoef(count1, count1)[0, 1]\n",
    "  # Print the correlation coefficient\n",
    "  print(f\"Difference between histograms: {a}\")\n",
    "  if(a>threshold_for_difference):\n",
    "    print(f\"The difference is above the threshold {threshold_for_difference} that we set\")\n",
    "  else:\n",
    "    print(f\"The difference is below the threshold {threshold_for_difference} that we set\")"
   ]
  },
  {
   "cell_type": "markdown",
   "metadata": {
    "id": "W9YEpsF_RU_H"
   },
   "source": [
    "### **The first dataset**: Credit score classification"
   ]
  },
  {
   "cell_type": "code",
   "execution_count": 109,
   "metadata": {
    "colab": {
     "base_uri": "https://localhost:8080/"
    },
    "id": "_52diMagF6ee",
    "outputId": "3ddf9cbd-5e19-4488-c252-9fb31bfe6278"
   },
   "outputs": [
    {
     "name": "stderr",
     "output_type": "stream",
     "text": [
      "C:\\Users\\eva\\anaconda3\\lib\\site-packages\\IPython\\core\\interactiveshell.py:3165: DtypeWarning: Columns (26) have mixed types.Specify dtype option on import or set low_memory=False.\n",
      "  has_raised = await self.run_ast_nodes(code_ast.body, cell_name,\n"
     ]
    }
   ],
   "source": [
    "dataset = \"Credit Score\"\n",
    "\n",
    "file_path_creditScore_train = ('./data/credit_score/train.csv')\n",
    "df_creditScore_train= pd.read_csv(file_path_creditScore_train)\n",
    "\n",
    "file_path_creditScore_test = ('./data/credit_score/test.csv')\n",
    "df_creditScore_test= pd.read_csv(file_path_creditScore_test)"
   ]
  },
  {
   "cell_type": "code",
   "execution_count": 110,
   "metadata": {
    "colab": {
     "base_uri": "https://localhost:8080/",
     "height": 864
    },
    "id": "0VX-pbLfWg6I",
    "outputId": "f141dd04-770b-4d4f-cf34-514536c0f3e9"
   },
   "outputs": [
    {
     "data": {
      "text/html": [
       "<div>\n",
       "<style scoped>\n",
       "    .dataframe tbody tr th:only-of-type {\n",
       "        vertical-align: middle;\n",
       "    }\n",
       "\n",
       "    .dataframe tbody tr th {\n",
       "        vertical-align: top;\n",
       "    }\n",
       "\n",
       "    .dataframe thead th {\n",
       "        text-align: right;\n",
       "    }\n",
       "</style>\n",
       "<table border=\"1\" class=\"dataframe\">\n",
       "  <thead>\n",
       "    <tr style=\"text-align: right;\">\n",
       "      <th></th>\n",
       "      <th>ID</th>\n",
       "      <th>Customer_ID</th>\n",
       "      <th>Month</th>\n",
       "      <th>Name</th>\n",
       "      <th>Age</th>\n",
       "      <th>SSN</th>\n",
       "      <th>Occupation</th>\n",
       "      <th>Annual_Income</th>\n",
       "      <th>Monthly_Inhand_Salary</th>\n",
       "      <th>Num_Bank_Accounts</th>\n",
       "      <th>...</th>\n",
       "      <th>Credit_Mix</th>\n",
       "      <th>Outstanding_Debt</th>\n",
       "      <th>Credit_Utilization_Ratio</th>\n",
       "      <th>Credit_History_Age</th>\n",
       "      <th>Payment_of_Min_Amount</th>\n",
       "      <th>Total_EMI_per_month</th>\n",
       "      <th>Amount_invested_monthly</th>\n",
       "      <th>Payment_Behaviour</th>\n",
       "      <th>Monthly_Balance</th>\n",
       "      <th>Credit_Score</th>\n",
       "    </tr>\n",
       "  </thead>\n",
       "  <tbody>\n",
       "    <tr>\n",
       "      <th>0</th>\n",
       "      <td>0x1602</td>\n",
       "      <td>CUS_0xd40</td>\n",
       "      <td>January</td>\n",
       "      <td>Aaron Maashoh</td>\n",
       "      <td>23</td>\n",
       "      <td>821-00-0265</td>\n",
       "      <td>Scientist</td>\n",
       "      <td>19114.12</td>\n",
       "      <td>1824.843333</td>\n",
       "      <td>3</td>\n",
       "      <td>...</td>\n",
       "      <td>_</td>\n",
       "      <td>809.98</td>\n",
       "      <td>26.822620</td>\n",
       "      <td>22 Years and 1 Months</td>\n",
       "      <td>No</td>\n",
       "      <td>49.574949</td>\n",
       "      <td>80.41529543900253</td>\n",
       "      <td>High_spent_Small_value_payments</td>\n",
       "      <td>312.49408867943663</td>\n",
       "      <td>Good</td>\n",
       "    </tr>\n",
       "    <tr>\n",
       "      <th>1</th>\n",
       "      <td>0x1603</td>\n",
       "      <td>CUS_0xd40</td>\n",
       "      <td>February</td>\n",
       "      <td>Aaron Maashoh</td>\n",
       "      <td>23</td>\n",
       "      <td>821-00-0265</td>\n",
       "      <td>Scientist</td>\n",
       "      <td>19114.12</td>\n",
       "      <td>NaN</td>\n",
       "      <td>3</td>\n",
       "      <td>...</td>\n",
       "      <td>Good</td>\n",
       "      <td>809.98</td>\n",
       "      <td>31.944960</td>\n",
       "      <td>NaN</td>\n",
       "      <td>No</td>\n",
       "      <td>49.574949</td>\n",
       "      <td>118.28022162236736</td>\n",
       "      <td>Low_spent_Large_value_payments</td>\n",
       "      <td>284.62916249607184</td>\n",
       "      <td>Good</td>\n",
       "    </tr>\n",
       "    <tr>\n",
       "      <th>2</th>\n",
       "      <td>0x1604</td>\n",
       "      <td>CUS_0xd40</td>\n",
       "      <td>March</td>\n",
       "      <td>Aaron Maashoh</td>\n",
       "      <td>-500</td>\n",
       "      <td>821-00-0265</td>\n",
       "      <td>Scientist</td>\n",
       "      <td>19114.12</td>\n",
       "      <td>NaN</td>\n",
       "      <td>3</td>\n",
       "      <td>...</td>\n",
       "      <td>Good</td>\n",
       "      <td>809.98</td>\n",
       "      <td>28.609352</td>\n",
       "      <td>22 Years and 3 Months</td>\n",
       "      <td>No</td>\n",
       "      <td>49.574949</td>\n",
       "      <td>81.699521264648</td>\n",
       "      <td>Low_spent_Medium_value_payments</td>\n",
       "      <td>331.2098628537912</td>\n",
       "      <td>Good</td>\n",
       "    </tr>\n",
       "    <tr>\n",
       "      <th>3</th>\n",
       "      <td>0x1605</td>\n",
       "      <td>CUS_0xd40</td>\n",
       "      <td>April</td>\n",
       "      <td>Aaron Maashoh</td>\n",
       "      <td>23</td>\n",
       "      <td>821-00-0265</td>\n",
       "      <td>Scientist</td>\n",
       "      <td>19114.12</td>\n",
       "      <td>NaN</td>\n",
       "      <td>3</td>\n",
       "      <td>...</td>\n",
       "      <td>Good</td>\n",
       "      <td>809.98</td>\n",
       "      <td>31.377862</td>\n",
       "      <td>22 Years and 4 Months</td>\n",
       "      <td>No</td>\n",
       "      <td>49.574949</td>\n",
       "      <td>199.4580743910713</td>\n",
       "      <td>Low_spent_Small_value_payments</td>\n",
       "      <td>223.45130972736786</td>\n",
       "      <td>Good</td>\n",
       "    </tr>\n",
       "    <tr>\n",
       "      <th>4</th>\n",
       "      <td>0x1606</td>\n",
       "      <td>CUS_0xd40</td>\n",
       "      <td>May</td>\n",
       "      <td>Aaron Maashoh</td>\n",
       "      <td>23</td>\n",
       "      <td>821-00-0265</td>\n",
       "      <td>Scientist</td>\n",
       "      <td>19114.12</td>\n",
       "      <td>1824.843333</td>\n",
       "      <td>3</td>\n",
       "      <td>...</td>\n",
       "      <td>Good</td>\n",
       "      <td>809.98</td>\n",
       "      <td>24.797347</td>\n",
       "      <td>22 Years and 5 Months</td>\n",
       "      <td>No</td>\n",
       "      <td>49.574949</td>\n",
       "      <td>41.420153086217326</td>\n",
       "      <td>High_spent_Medium_value_payments</td>\n",
       "      <td>341.48923103222177</td>\n",
       "      <td>Good</td>\n",
       "    </tr>\n",
       "  </tbody>\n",
       "</table>\n",
       "<p>5 rows × 28 columns</p>\n",
       "</div>"
      ],
      "text/plain": [
       "       ID Customer_ID     Month           Name   Age          SSN Occupation  \\\n",
       "0  0x1602   CUS_0xd40   January  Aaron Maashoh    23  821-00-0265  Scientist   \n",
       "1  0x1603   CUS_0xd40  February  Aaron Maashoh    23  821-00-0265  Scientist   \n",
       "2  0x1604   CUS_0xd40     March  Aaron Maashoh  -500  821-00-0265  Scientist   \n",
       "3  0x1605   CUS_0xd40     April  Aaron Maashoh    23  821-00-0265  Scientist   \n",
       "4  0x1606   CUS_0xd40       May  Aaron Maashoh    23  821-00-0265  Scientist   \n",
       "\n",
       "  Annual_Income  Monthly_Inhand_Salary  Num_Bank_Accounts  ...  Credit_Mix  \\\n",
       "0      19114.12            1824.843333                  3  ...           _   \n",
       "1      19114.12                    NaN                  3  ...        Good   \n",
       "2      19114.12                    NaN                  3  ...        Good   \n",
       "3      19114.12                    NaN                  3  ...        Good   \n",
       "4      19114.12            1824.843333                  3  ...        Good   \n",
       "\n",
       "   Outstanding_Debt Credit_Utilization_Ratio     Credit_History_Age  \\\n",
       "0            809.98                26.822620  22 Years and 1 Months   \n",
       "1            809.98                31.944960                    NaN   \n",
       "2            809.98                28.609352  22 Years and 3 Months   \n",
       "3            809.98                31.377862  22 Years and 4 Months   \n",
       "4            809.98                24.797347  22 Years and 5 Months   \n",
       "\n",
       "   Payment_of_Min_Amount Total_EMI_per_month Amount_invested_monthly  \\\n",
       "0                     No           49.574949       80.41529543900253   \n",
       "1                     No           49.574949      118.28022162236736   \n",
       "2                     No           49.574949         81.699521264648   \n",
       "3                     No           49.574949       199.4580743910713   \n",
       "4                     No           49.574949      41.420153086217326   \n",
       "\n",
       "                  Payment_Behaviour     Monthly_Balance Credit_Score  \n",
       "0   High_spent_Small_value_payments  312.49408867943663         Good  \n",
       "1    Low_spent_Large_value_payments  284.62916249607184         Good  \n",
       "2   Low_spent_Medium_value_payments   331.2098628537912         Good  \n",
       "3    Low_spent_Small_value_payments  223.45130972736786         Good  \n",
       "4  High_spent_Medium_value_payments  341.48923103222177         Good  \n",
       "\n",
       "[5 rows x 28 columns]"
      ]
     },
     "execution_count": 110,
     "metadata": {},
     "output_type": "execute_result"
    }
   ],
   "source": [
    "df_creditScore_train.head()"
   ]
  },
  {
   "cell_type": "code",
   "execution_count": 111,
   "metadata": {
    "id": "zUz35BloSwpJ"
   },
   "outputs": [],
   "source": [
    "# This dataset contains NaN values so we remove them\n",
    "df_creditScore_train_withoutNan=df_creditScore_train.dropna()\n",
    "df_creditScore_test_withoutNan=df_creditScore_test.dropna()"
   ]
  },
  {
   "cell_type": "code",
   "execution_count": 112,
   "metadata": {
    "colab": {
     "base_uri": "https://localhost:8080/"
    },
    "id": "XdhmA-AKGCi8",
    "outputId": "2d5af8a4-74bd-4484-e3d7-72c784a08510"
   },
   "outputs": [
    {
     "name": "stdout",
     "output_type": "stream",
     "text": [
      "There are 28 columns\n",
      "There are 53049 samples\n"
     ]
    }
   ],
   "source": [
    "utils.getDS_size(df_creditScore_train_withoutNan)"
   ]
  },
  {
   "cell_type": "code",
   "execution_count": 113,
   "metadata": {
    "colab": {
     "base_uri": "https://localhost:8080/"
    },
    "id": "osecexYoNhm_",
    "outputId": "b5944613-6223-4601-b1dd-d667356f862e"
   },
   "outputs": [
    {
     "name": "stdout",
     "output_type": "stream",
     "text": [
      "There are 27 columns\n",
      "There are 26459 samples\n"
     ]
    }
   ],
   "source": [
    "utils.getDS_size(df_creditScore_test_withoutNan)"
   ]
  },
  {
   "cell_type": "markdown",
   "metadata": {
    "id": "44Kl9z--QC80"
   },
   "source": [
    "We have the following partiion: 33%test and 67% train"
   ]
  },
  {
   "cell_type": "markdown",
   "metadata": {
    "id": "QLS5H6V5Fe5t"
   },
   "source": [
    "### Numerical feature: Monthly_Inhand_Salary"
   ]
  },
  {
   "cell_type": "code",
   "execution_count": 114,
   "metadata": {
    "id": "qLe6qLT5B0Pe"
   },
   "outputs": [],
   "source": [
    "feature_Monthly_Inhand_Salary='Monthly_Inhand_Salary'\n",
    "# print(df_creditScore_train_withoutNan[feature_Monthly_Inhand_Salary].describe())\n",
    "# print()\n",
    "# getFeatureInfo(df_creditScore_train_withoutNan, feature_Monthly_Inhand_Salary)"
   ]
  },
  {
   "cell_type": "markdown",
   "metadata": {
    "id": "nJvCbQKsGQC9"
   },
   "source": [
    "Histogram of the feature created by our method"
   ]
  },
  {
   "cell_type": "code",
   "execution_count": 115,
   "metadata": {
    "colab": {
     "base_uri": "https://localhost:8080/",
     "height": 294
    },
    "id": "1UFrYlX6WduZ",
    "outputId": "75337c6a-0d63-43a1-a5ea-dced57117188"
   },
   "outputs": [
    {
     "data": {
      "text/plain": [
       "18"
      ]
     },
     "execution_count": 115,
     "metadata": {},
     "output_type": "execute_result"
    },
    {
     "data": {
      "image/png": "[encoded data removed]",
      "text/plain": [
       "<Figure size 432x288 with 1 Axes>"
      ]
     },
     "metadata": {
      "needs_background": "light"
     },
     "output_type": "display_data"
    }
   ],
   "source": [
    "print_result(df_creditScore_train_withoutNan,[feature_Monthly_Inhand_Salary], dataset + \" train set\")"
   ]
  },
  {
   "cell_type": "markdown",
   "metadata": {
    "id": "U1rw54iAbIFj"
   },
   "source": [
    "According to our solution the optimal bins size is **18** (Sturges method).\n",
    "\n",
    "Now, let's check if this choice give a similar distribution in the test set."
   ]
  },
  {
   "cell_type": "code",
   "execution_count": 116,
   "metadata": {
    "colab": {
     "base_uri": "https://localhost:8080/",
     "height": 265
    },
    "id": "NtxoH-YRqA5H",
    "outputId": "82a23744-7e7b-41ed-801f-6d585d57a96c"
   },
   "outputs": [
    {
     "data": {
      "image/png": "[encoded data removed]",
      "text/plain": [
       "<Figure size 432x288 with 1 Axes>"
      ]
     },
     "metadata": {
      "needs_background": "light"
     },
     "output_type": "display_data"
    }
   ],
   "source": [
    "hi=df_creditScore_test_withoutNan.Monthly_Inhand_Salary.hist(bins=18)"
   ]
  },
  {
   "cell_type": "markdown",
   "metadata": {
    "id": "hZVZo4I2Qeea"
   },
   "source": [
    "If we look at the test and train histograms they look identical : so it looks like the method works well: lets check it with our metric."
   ]
  },
  {
   "cell_type": "code",
   "execution_count": 117,
   "metadata": {
    "colab": {
     "base_uri": "https://localhost:8080/",
     "height": 367
    },
    "id": "hA_DRcVmf-tb",
    "outputId": "b0c93c4c-4369-4e06-9438-f39d1b88d03f"
   },
   "outputs": [
    {
     "name": "stdout",
     "output_type": "stream",
     "text": [
      "XAxis(90.0,45.0)\n"
     ]
    },
    {
     "data": {
      "image/png": "[encoded data removed]",
      "text/plain": [
       "<Figure size 720x360 with 1 Axes>"
      ]
     },
     "metadata": {
      "needs_background": "light"
     },
     "output_type": "display_data"
    }
   ],
   "source": [
    "# hist_info= plot_dual_histogram(df, df_test, feature, bins)\n",
    "h1, h2= plot_dual_histogram(df_creditScore_train_withoutNan, df_creditScore_test_withoutNan, feature_Monthly_Inhand_Salary, 18)"
   ]
  },
  {
   "cell_type": "markdown",
   "metadata": {
    "id": "eMy1-S1hVW2G"
   },
   "source": [
    "We see a similar behavior of the histograms of train and test.\n",
    "It is good news.\n",
    "Let's measure it empirically"
   ]
  },
  {
   "cell_type": "markdown",
   "metadata": {
    "id": "WQ0gP29FcI4o"
   },
   "source": [
    "We calculate the difference between the histograms:<br/>\n",
    "We calculate the ratio of each bin against the complete data and see if the proportion of each bin in train is similar to the corresponding bin in test. We determined a threshold of 0.01 for the mean difference between a bin in train and a bin in test. Namely mean difference up to 0.01 is good for us."
   ]
  },
  {
   "cell_type": "code",
   "execution_count": 118,
   "metadata": {
    "colab": {
     "base_uri": "https://localhost:8080/"
    },
    "id": "Ths1tExQbHdq",
    "outputId": "dfc297ed-661c-4735-e50e-939ded22b82e"
   },
   "outputs": [
    {
     "name": "stdout",
     "output_type": "stream",
     "text": [
      "Difference between histograms: 0.00083\n",
      "The difference is below the threshold 0.01 that we set\n"
     ]
    }
   ],
   "source": [
    "printDifference(df_creditScore_train_withoutNan,df_creditScore_test_withoutNan,feature_Monthly_Inhand_Salary, 18)"
   ]
  },
  {
   "cell_type": "markdown",
   "metadata": {
    "id": "_Vc6ugla6sN5"
   },
   "source": [
    "Here we find that the proportion of each bin in train is very similar to the bin in test. In fact, we can see below that the mean difference is 0.00083.\n",
    "We can compare our result to the default method of 10 bins."
   ]
  },
  {
   "cell_type": "code",
   "execution_count": 119,
   "metadata": {
    "colab": {
     "base_uri": "https://localhost:8080/",
     "height": 300
    },
    "id": "kt4ozGOzVFST",
    "outputId": "4b456ac2-0200-4b8d-a45b-c27ac6ab2a21"
   },
   "outputs": [
    {
     "name": "stdout",
     "output_type": "stream",
     "text": [
      "Difference between histograms: 0.00079\n",
      "The difference is below the threshold 0.01 that we set\n"
     ]
    },
    {
     "data": {
      "image/png": "[encoded data removed]",
      "text/plain": [
       "<Figure size 432x288 with 1 Axes>"
      ]
     },
     "metadata": {
      "needs_background": "light"
     },
     "output_type": "display_data"
    }
   ],
   "source": [
    "df_creditScore_train_withoutNan[feature_Monthly_Inhand_Salary].hist()\n",
    "df_creditScore_test_withoutNan[feature_Monthly_Inhand_Salary].hist()\n",
    "printDifference(df_creditScore_train_withoutNan,df_creditScore_test_withoutNan,feature_Monthly_Inhand_Salary, 10)"
   ]
  },
  {
   "cell_type": "markdown",
   "metadata": {
    "id": "oY_2H0_LdeeU"
   },
   "source": [
    "Just for comparison, if we were to make a histogram with the automatic bins size of hist method (=10) - the baseline approach, we would get mean difference of 0.00079 between train and test bins, below:"
   ]
  },
  {
   "cell_type": "markdown",
   "metadata": {
    "id": "018emZwTWVbb"
   },
   "source": [
    "So, It seems that there is not difference between our approach and the baseline approach according to our meaure. But we can see that 10 bins missed the rise that exists at the beginning of data (contrary to our choice)."
   ]
  },
  {
   "cell_type": "markdown",
   "metadata": {
    "id": "vhaPKKWahr9x"
   },
   "source": [
    "Now let's check our solution with another feature \"Credit_Utilization_Ratio\"\n",
    "###Numerical feature: Credit_Utilization_Ratio"
   ]
  },
  {
   "cell_type": "code",
   "execution_count": 120,
   "metadata": {
    "colab": {
     "base_uri": "https://localhost:8080/"
    },
    "id": "jd2UHhzVmvOY",
    "outputId": "e99c6a2e-2b22-4db0-b776-ee8f259dcdce"
   },
   "outputs": [
    {
     "name": "stdout",
     "output_type": "stream",
     "text": [
      "count    53049.000000\n",
      "mean        32.219031\n",
      "std          5.057398\n",
      "min         20.881250\n",
      "25%         28.046338\n",
      "50%         32.251786\n",
      "75%         36.408991\n",
      "max         49.564519\n",
      "Name: Credit_Utilization_Ratio, dtype: float64\n"
     ]
    }
   ],
   "source": [
    "feature_Credit_Utilization_Ratio='Credit_Utilization_Ratio'\n",
    "print(df_creditScore_train_withoutNan[feature_Credit_Utilization_Ratio].describe())"
   ]
  },
  {
   "cell_type": "code",
   "execution_count": 121,
   "metadata": {
    "id": "sZgsOY4BSrCM"
   },
   "outputs": [
    {
     "name": "stdout",
     "output_type": "stream",
     "text": [
      "Feature name:  Credit_Utilization_Ratio\n",
      "Amplitude of values: 53043.94260186163\n",
      "Nb of different values in the feature:  53049\n",
      "Range of values: 20.88125003902868  - 49.56451934738699\n",
      "Nb of samples for this feature : 53049\n"
     ]
    }
   ],
   "source": [
    "utils.getFeatureInfo(df_creditScore_train_withoutNan, feature_Credit_Utilization_Ratio)"
   ]
  },
  {
   "cell_type": "markdown",
   "metadata": {
    "id": "UyR_2ZK0nTkI"
   },
   "source": [
    "Build histogram using the method"
   ]
  },
  {
   "cell_type": "code",
   "execution_count": 122,
   "metadata": {
    "colab": {
     "base_uri": "https://localhost:8080/",
     "height": 294
    },
    "id": "SPbLEVwUnTkJ",
    "outputId": "ad308e27-99d8-4c03-ba59-13d113c43b63"
   },
   "outputs": [
    {
     "data": {
      "text/plain": [
       "18"
      ]
     },
     "execution_count": 122,
     "metadata": {},
     "output_type": "execute_result"
    },
    {
     "data": {
      "image/png": "[encoded data removed]",
      "text/plain": [
       "<Figure size 432x288 with 1 Axes>"
      ]
     },
     "metadata": {
      "needs_background": "light"
     },
     "output_type": "display_data"
    }
   ],
   "source": [
    "print_result(df_creditScore_train_withoutNan,[feature_Credit_Utilization_Ratio],\"Credit Score\" + \" train set\")"
   ]
  },
  {
   "cell_type": "markdown",
   "metadata": {
    "id": "_CICoamyojnx"
   },
   "source": [
    "According to our solution the best bins size is 18."
   ]
  },
  {
   "cell_type": "markdown",
   "metadata": {
    "id": "55RkbZO3o-7V"
   },
   "source": [
    "Let's test if this choice (=18) is also good for the test set.\n",
    "Primarily, let's see the histogram of test set with bins=18."
   ]
  },
  {
   "cell_type": "code",
   "execution_count": 123,
   "metadata": {
    "colab": {
     "base_uri": "https://localhost:8080/",
     "height": 282
    },
    "id": "Elf_6lmZqkYf",
    "outputId": "29e1621f-9b33-484b-f539-0f88a8419089"
   },
   "outputs": [
    {
     "data": {
      "text/plain": [
       "<AxesSubplot:>"
      ]
     },
     "execution_count": 123,
     "metadata": {},
     "output_type": "execute_result"
    },
    {
     "data": {
      "image/png": "[encoded data removed]",
      "text/plain": [
       "<Figure size 432x288 with 1 Axes>"
      ]
     },
     "metadata": {
      "needs_background": "light"
     },
     "output_type": "display_data"
    }
   ],
   "source": [
    "df_creditScore_test_withoutNan.Credit_Utilization_Ratio.hist(bins=18)"
   ]
  },
  {
   "cell_type": "markdown",
   "metadata": {
    "id": "_Zl99tE7pcbY"
   },
   "source": [
    "Let's see and compare the histograms of train and test"
   ]
  },
  {
   "cell_type": "code",
   "execution_count": 124,
   "metadata": {
    "colab": {
     "base_uri": "https://localhost:8080/",
     "height": 367
    },
    "id": "pxylbyA_pm5H",
    "outputId": "3fa0735c-b04b-404e-de1f-9e748e321850"
   },
   "outputs": [
    {
     "name": "stdout",
     "output_type": "stream",
     "text": [
      "XAxis(90.0,45.0)\n"
     ]
    },
    {
     "data": {
      "image/png": "[encoded data removed]",
      "text/plain": [
       "<Figure size 720x360 with 1 Axes>"
      ]
     },
     "metadata": {
      "needs_background": "light"
     },
     "output_type": "display_data"
    }
   ],
   "source": [
    "h1, h2= plot_dual_histogram(df_creditScore_train_withoutNan, df_creditScore_test_withoutNan, feature_Credit_Utilization_Ratio, 18)"
   ]
  },
  {
   "cell_type": "markdown",
   "metadata": {
    "id": "O8gJNTrItR9w"
   },
   "source": [
    "We see a similar behavior of the histograms of train and test, also in this feature.\n",
    "It is good news.\n",
    "Let's measure it empirically."
   ]
  },
  {
   "cell_type": "code",
   "execution_count": 125,
   "metadata": {
    "colab": {
     "base_uri": "https://localhost:8080/"
    },
    "id": "WdDTQEsLt3w-",
    "outputId": "2461c6c2-e4aa-4e78-f3f2-476fc9b2524c"
   },
   "outputs": [
    {
     "name": "stdout",
     "output_type": "stream",
     "text": [
      "Difference between histograms: 0.00853\n",
      "The difference is below the threshold 0.01 that we set\n"
     ]
    }
   ],
   "source": [
    "printDifference(df_creditScore_train_withoutNan,df_creditScore_test_withoutNan,feature_Credit_Utilization_Ratio, 18)"
   ]
  },
  {
   "cell_type": "markdown",
   "metadata": {
    "id": "PzJ5mtyAtR9x"
   },
   "source": [
    "Below, we find that the proportion of each bin in train is very similar to the bin in test. In fact, we can see below that the mean difference is 0.00853 which is very small.\n",
    "Let s compare with the restlt of the default method with 10 bins"
   ]
  },
  {
   "cell_type": "code",
   "execution_count": 126,
   "metadata": {
    "colab": {
     "base_uri": "https://localhost:8080/",
     "height": 300
    },
    "id": "4a4rmgg-u-rY",
    "outputId": "cd434771-ed7c-4e1d-9053-1752a95d77ad"
   },
   "outputs": [
    {
     "name": "stdout",
     "output_type": "stream",
     "text": [
      "Difference between histograms: 0.01488\n",
      "The difference is above the threshold 0.01 that we set\n"
     ]
    },
    {
     "data": {
      "image/png": "[encoded data removed]",
      "text/plain": [
       "<Figure size 432x288 with 1 Axes>"
      ]
     },
     "metadata": {
      "needs_background": "light"
     },
     "output_type": "display_data"
    }
   ],
   "source": [
    "df_creditScore_train_withoutNan[feature_Credit_Utilization_Ratio].hist()\n",
    "df_creditScore_test_withoutNan[feature_Credit_Utilization_Ratio].hist()\n",
    "printDifference(df_creditScore_train_withoutNan,df_creditScore_test_withoutNan,feature_Credit_Utilization_Ratio, 10)"
   ]
  },
  {
   "cell_type": "markdown",
   "metadata": {
    "id": "s1SBGT2rvuLd"
   },
   "source": [
    "Just for comparison, if we were to make a histogram with the automatic bins size of hist method (=10) - the baseline approach, we would get mean difference of 0.01488 between train and test bins:"
   ]
  },
  {
   "cell_type": "markdown",
   "metadata": {
    "id": "5FVTdxl9xeNh"
   },
   "source": [
    "According to our measure, in this feature our solution method is better than the baseline approach which gives difference of 0.01488 - above the threshold we fixed."
   ]
  },
  {
   "cell_type": "markdown",
   "metadata": {
    "id": "H25n79hZyygN"
   },
   "source": [
    "We will now test the method on another dataset.\n",
    "###**Second dataset**: Loan Default prediction dataset\n",
    "https://www.kaggle.com/competitions/loan-default-prediction/data"
   ]
  },
  {
   "cell_type": "code",
   "execution_count": 127,
   "metadata": {
    "colab": {
     "base_uri": "https://localhost:8080/"
    },
    "id": "wHA8Oup9vlZh",
    "outputId": "20feffc4-4db3-4974-be1a-eeb685381700"
   },
   "outputs": [],
   "source": [
    "\n",
    "\n",
    "\n",
    "dataset = \"Loan default\"\n",
    "\n",
    "file_path_loan_default_prediction_train = ('./data/loan_default_prediction/train.csv')\n",
    "df_loan_default_prediction_train= pd.read_csv(file_path_loan_default_prediction_train)\n",
    "\n",
    "file_path_loan_default_prediction_test = ('./data/loan_default_prediction/test.csv')\n",
    "df_loan_default_prediction_test= pd.read_csv(file_path_loan_default_prediction_test)"
   ]
  },
  {
   "cell_type": "code",
   "execution_count": 128,
   "metadata": {
    "colab": {
     "base_uri": "https://localhost:8080/",
     "height": 351
    },
    "id": "QhhriRUZzVCN",
    "outputId": "eb8d47ff-63e3-442d-a9c6-d90598c4b6a0"
   },
   "outputs": [
    {
     "data": {
      "text/html": [
       "<div>\n",
       "<style scoped>\n",
       "    .dataframe tbody tr th:only-of-type {\n",
       "        vertical-align: middle;\n",
       "    }\n",
       "\n",
       "    .dataframe tbody tr th {\n",
       "        vertical-align: top;\n",
       "    }\n",
       "\n",
       "    .dataframe thead th {\n",
       "        text-align: right;\n",
       "    }\n",
       "</style>\n",
       "<table border=\"1\" class=\"dataframe\">\n",
       "  <thead>\n",
       "    <tr style=\"text-align: right;\">\n",
       "      <th></th>\n",
       "      <th>ID</th>\n",
       "      <th>Loan Amount</th>\n",
       "      <th>Funded Amount</th>\n",
       "      <th>Funded Amount Investor</th>\n",
       "      <th>Term</th>\n",
       "      <th>Batch Enrolled</th>\n",
       "      <th>Interest Rate</th>\n",
       "      <th>Grade</th>\n",
       "      <th>Sub Grade</th>\n",
       "      <th>Employment Duration</th>\n",
       "      <th>...</th>\n",
       "      <th>Recoveries</th>\n",
       "      <th>Collection Recovery Fee</th>\n",
       "      <th>Collection 12 months Medical</th>\n",
       "      <th>Application Type</th>\n",
       "      <th>Last week Pay</th>\n",
       "      <th>Accounts Delinquent</th>\n",
       "      <th>Total Collection Amount</th>\n",
       "      <th>Total Current Balance</th>\n",
       "      <th>Total Revolving Credit Limit</th>\n",
       "      <th>Loan Status</th>\n",
       "    </tr>\n",
       "  </thead>\n",
       "  <tbody>\n",
       "    <tr>\n",
       "      <th>0</th>\n",
       "      <td>65087372</td>\n",
       "      <td>10000</td>\n",
       "      <td>32236</td>\n",
       "      <td>12329.36286</td>\n",
       "      <td>59</td>\n",
       "      <td>BAT2522922</td>\n",
       "      <td>11.135007</td>\n",
       "      <td>B</td>\n",
       "      <td>C4</td>\n",
       "      <td>MORTGAGE</td>\n",
       "      <td>...</td>\n",
       "      <td>2.498291</td>\n",
       "      <td>0.793724</td>\n",
       "      <td>0</td>\n",
       "      <td>INDIVIDUAL</td>\n",
       "      <td>49</td>\n",
       "      <td>0</td>\n",
       "      <td>31</td>\n",
       "      <td>311301</td>\n",
       "      <td>6619</td>\n",
       "      <td>0</td>\n",
       "    </tr>\n",
       "    <tr>\n",
       "      <th>1</th>\n",
       "      <td>1450153</td>\n",
       "      <td>3609</td>\n",
       "      <td>11940</td>\n",
       "      <td>12191.99692</td>\n",
       "      <td>59</td>\n",
       "      <td>BAT1586599</td>\n",
       "      <td>12.237563</td>\n",
       "      <td>C</td>\n",
       "      <td>D3</td>\n",
       "      <td>RENT</td>\n",
       "      <td>...</td>\n",
       "      <td>2.377215</td>\n",
       "      <td>0.974821</td>\n",
       "      <td>0</td>\n",
       "      <td>INDIVIDUAL</td>\n",
       "      <td>109</td>\n",
       "      <td>0</td>\n",
       "      <td>53</td>\n",
       "      <td>182610</td>\n",
       "      <td>20885</td>\n",
       "      <td>0</td>\n",
       "    </tr>\n",
       "    <tr>\n",
       "      <th>2</th>\n",
       "      <td>1969101</td>\n",
       "      <td>28276</td>\n",
       "      <td>9311</td>\n",
       "      <td>21603.22455</td>\n",
       "      <td>59</td>\n",
       "      <td>BAT2136391</td>\n",
       "      <td>12.545884</td>\n",
       "      <td>F</td>\n",
       "      <td>D4</td>\n",
       "      <td>MORTGAGE</td>\n",
       "      <td>...</td>\n",
       "      <td>4.316277</td>\n",
       "      <td>1.020075</td>\n",
       "      <td>0</td>\n",
       "      <td>INDIVIDUAL</td>\n",
       "      <td>66</td>\n",
       "      <td>0</td>\n",
       "      <td>34</td>\n",
       "      <td>89801</td>\n",
       "      <td>26155</td>\n",
       "      <td>0</td>\n",
       "    </tr>\n",
       "    <tr>\n",
       "      <th>3</th>\n",
       "      <td>6651430</td>\n",
       "      <td>11170</td>\n",
       "      <td>6954</td>\n",
       "      <td>17877.15585</td>\n",
       "      <td>59</td>\n",
       "      <td>BAT2428731</td>\n",
       "      <td>16.731201</td>\n",
       "      <td>C</td>\n",
       "      <td>C3</td>\n",
       "      <td>MORTGAGE</td>\n",
       "      <td>...</td>\n",
       "      <td>0.107020</td>\n",
       "      <td>0.749971</td>\n",
       "      <td>0</td>\n",
       "      <td>INDIVIDUAL</td>\n",
       "      <td>39</td>\n",
       "      <td>0</td>\n",
       "      <td>40</td>\n",
       "      <td>9189</td>\n",
       "      <td>60214</td>\n",
       "      <td>0</td>\n",
       "    </tr>\n",
       "    <tr>\n",
       "      <th>4</th>\n",
       "      <td>14354669</td>\n",
       "      <td>16890</td>\n",
       "      <td>13226</td>\n",
       "      <td>13539.92667</td>\n",
       "      <td>59</td>\n",
       "      <td>BAT5341619</td>\n",
       "      <td>15.008300</td>\n",
       "      <td>C</td>\n",
       "      <td>D4</td>\n",
       "      <td>MORTGAGE</td>\n",
       "      <td>...</td>\n",
       "      <td>1294.818751</td>\n",
       "      <td>0.368953</td>\n",
       "      <td>0</td>\n",
       "      <td>INDIVIDUAL</td>\n",
       "      <td>18</td>\n",
       "      <td>0</td>\n",
       "      <td>430</td>\n",
       "      <td>126029</td>\n",
       "      <td>22579</td>\n",
       "      <td>0</td>\n",
       "    </tr>\n",
       "  </tbody>\n",
       "</table>\n",
       "<p>5 rows × 35 columns</p>\n",
       "</div>"
      ],
      "text/plain": [
       "         ID  Loan Amount  Funded Amount  Funded Amount Investor  Term  \\\n",
       "0  65087372        10000          32236             12329.36286    59   \n",
       "1   1450153         3609          11940             12191.99692    59   \n",
       "2   1969101        28276           9311             21603.22455    59   \n",
       "3   6651430        11170           6954             17877.15585    59   \n",
       "4  14354669        16890          13226             13539.92667    59   \n",
       "\n",
       "  Batch Enrolled  Interest Rate Grade Sub Grade Employment Duration  ...  \\\n",
       "0     BAT2522922      11.135007     B        C4            MORTGAGE  ...   \n",
       "1     BAT1586599      12.237563     C        D3                RENT  ...   \n",
       "2     BAT2136391      12.545884     F        D4            MORTGAGE  ...   \n",
       "3     BAT2428731      16.731201     C        C3            MORTGAGE  ...   \n",
       "4     BAT5341619      15.008300     C        D4            MORTGAGE  ...   \n",
       "\n",
       "    Recoveries Collection Recovery Fee Collection 12 months Medical  \\\n",
       "0     2.498291                0.793724                            0   \n",
       "1     2.377215                0.974821                            0   \n",
       "2     4.316277                1.020075                            0   \n",
       "3     0.107020                0.749971                            0   \n",
       "4  1294.818751                0.368953                            0   \n",
       "\n",
       "  Application Type  Last week Pay  Accounts Delinquent  \\\n",
       "0       INDIVIDUAL             49                    0   \n",
       "1       INDIVIDUAL            109                    0   \n",
       "2       INDIVIDUAL             66                    0   \n",
       "3       INDIVIDUAL             39                    0   \n",
       "4       INDIVIDUAL             18                    0   \n",
       "\n",
       "   Total Collection Amount  Total Current Balance  \\\n",
       "0                       31                 311301   \n",
       "1                       53                 182610   \n",
       "2                       34                  89801   \n",
       "3                       40                   9189   \n",
       "4                      430                 126029   \n",
       "\n",
       "   Total Revolving Credit Limit  Loan Status  \n",
       "0                          6619            0  \n",
       "1                         20885            0  \n",
       "2                         26155            0  \n",
       "3                         60214            0  \n",
       "4                         22579            0  \n",
       "\n",
       "[5 rows x 35 columns]"
      ]
     },
     "execution_count": 128,
     "metadata": {},
     "output_type": "execute_result"
    }
   ],
   "source": [
    "df_loan_default_prediction_train.head()"
   ]
  },
  {
   "cell_type": "code",
   "execution_count": 129,
   "metadata": {
    "colab": {
     "base_uri": "https://localhost:8080/"
    },
    "id": "bHICh2wbejEL",
    "outputId": "ffdc23f3-310d-4c71-d7c0-3586e1abe2fb"
   },
   "outputs": [
    {
     "name": "stdout",
     "output_type": "stream",
     "text": [
      "There are 35 columns\n",
      "There are 67463 samples\n"
     ]
    }
   ],
   "source": [
    "utils.getDS_size(df_loan_default_prediction_train)"
   ]
  },
  {
   "cell_type": "code",
   "execution_count": 130,
   "metadata": {
    "colab": {
     "base_uri": "https://localhost:8080/"
    },
    "id": "fLFo30LsU_VF",
    "outputId": "2d17447f-3410-4ca3-f036-4a5420f82a2f"
   },
   "outputs": [
    {
     "name": "stdout",
     "output_type": "stream",
     "text": [
      "There are 35 columns\n",
      "There are 28913 samples\n"
     ]
    }
   ],
   "source": [
    "utils.getDS_size(df_loan_default_prediction_test)"
   ]
  },
  {
   "cell_type": "markdown",
   "metadata": {
    "id": "iO41vIwqejEN"
   },
   "source": [
    "We have a large dataset splitted in 70%train and 30% test."
   ]
  },
  {
   "cell_type": "markdown",
   "metadata": {
    "id": "bDzZOQ2mks9O"
   },
   "source": [
    "###Numerical feature: Funded Amount Investor"
   ]
  },
  {
   "cell_type": "code",
   "execution_count": 131,
   "metadata": {
    "colab": {
     "base_uri": "https://localhost:8080/"
    },
    "id": "mC9sdKwKks9P",
    "outputId": "12b82755-ba35-4180-f3d9-3372eaf6e376"
   },
   "outputs": [
    {
     "name": "stdout",
     "output_type": "stream",
     "text": [
      "0        12329.36286\n",
      "1        12191.99692\n",
      "2        21603.22455\n",
      "3        17877.15585\n",
      "4        13539.92667\n",
      "            ...     \n",
      "67458    13175.28583\n",
      "67459    15637.46301\n",
      "67460    12329.45775\n",
      "67461    21353.68465\n",
      "67462    14207.44860\n",
      "Name: Funded Amount Investor, Length: 67463, dtype: float64\n"
     ]
    }
   ],
   "source": [
    "feature_Funded_Amount_Investor='Funded Amount Investor'\n",
    "print(df_loan_default_prediction_train[feature_Funded_Amount_Investor])"
   ]
  },
  {
   "cell_type": "code",
   "execution_count": 132,
   "metadata": {
    "id": "QO3oY_tyVqEK"
   },
   "outputs": [
    {
     "name": "stdout",
     "output_type": "stream",
     "text": [
      "Feature name:  Funded Amount Investor\n",
      "Amplitude of values: 66348.40979599999\n",
      "Nb of different values in the feature:  67441\n",
      "Range of values: 1114.590204  - 34999.74643\n",
      "Nb of samples for this feature : 67463\n"
     ]
    }
   ],
   "source": [
    "utils.getFeatureInfo(df_loan_default_prediction_train, feature_Funded_Amount_Investor)"
   ]
  },
  {
   "cell_type": "markdown",
   "metadata": {
    "id": "KPN-Nv0Tks9Q"
   },
   "source": [
    "Let's build the histogram with our method"
   ]
  },
  {
   "cell_type": "code",
   "execution_count": 133,
   "metadata": {
    "colab": {
     "base_uri": "https://localhost:8080/",
     "height": 294
    },
    "id": "nRM7SFhSks9R",
    "outputId": "487d0583-c663-48fb-e1aa-f88d6177063e"
   },
   "outputs": [
    {
     "data": {
      "text/plain": [
       "19"
      ]
     },
     "execution_count": 133,
     "metadata": {},
     "output_type": "execute_result"
    },
    {
     "data": {
      "image/png": "[encoded data removed]",
      "text/plain": [
       "<Figure size 432x288 with 1 Axes>"
      ]
     },
     "metadata": {
      "needs_background": "light"
     },
     "output_type": "display_data"
    }
   ],
   "source": [
    "print_result(df_loan_default_prediction_train,[feature_Funded_Amount_Investor],\"Loan Default Prediction Train\")"
   ]
  },
  {
   "cell_type": "markdown",
   "metadata": {
    "id": "sL9oNmrEo3ik"
   },
   "source": [
    "According to our solution the best bins size is 19 (which calculated by sturges method again)."
   ]
  },
  {
   "cell_type": "markdown",
   "metadata": {
    "id": "Lpdhv22io3il"
   },
   "source": [
    "###Test the method by comparing with disribution of test set\n",
    "Let's test if this choice (=19) is also good for the test set.\n",
    "\n",
    "Primarily, let's see the histogram of test set with bins=19."
   ]
  },
  {
   "cell_type": "code",
   "execution_count": 134,
   "metadata": {
    "colab": {
     "base_uri": "https://localhost:8080/",
     "height": 282
    },
    "id": "ZCznQPEzo3im",
    "outputId": "24c8107e-4e01-4de4-edb1-b12eb43b74f6"
   },
   "outputs": [
    {
     "data": {
      "text/plain": [
       "<AxesSubplot:>"
      ]
     },
     "execution_count": 134,
     "metadata": {},
     "output_type": "execute_result"
    },
    {
     "data": {
      "image/png": "[encoded data removed]",
      "text/plain": [
       "<Figure size 432x288 with 1 Axes>"
      ]
     },
     "metadata": {
      "needs_background": "light"
     },
     "output_type": "display_data"
    }
   ],
   "source": [
    "df_loan_default_prediction_test['Funded Amount Investor'].hist(bins=19)"
   ]
  },
  {
   "cell_type": "markdown",
   "metadata": {
    "id": "1hasZW03o3in"
   },
   "source": [
    "Let's see and compare the histograms of train and test"
   ]
  },
  {
   "cell_type": "code",
   "execution_count": 135,
   "metadata": {
    "colab": {
     "base_uri": "https://localhost:8080/",
     "height": 367
    },
    "id": "gAuzYNj9o3in",
    "outputId": "1d76f6c7-0a91-4b04-b77f-534476e53f96"
   },
   "outputs": [
    {
     "name": "stdout",
     "output_type": "stream",
     "text": [
      "XAxis(90.0,45.0)\n"
     ]
    },
    {
     "data": {
      "image/png": "[encoded data removed]",
      "text/plain": [
       "<Figure size 720x360 with 1 Axes>"
      ]
     },
     "metadata": {
      "needs_background": "light"
     },
     "output_type": "display_data"
    }
   ],
   "source": [
    "h1, h2= plot_dual_histogram(df_loan_default_prediction_train, df_loan_default_prediction_test, feature_Funded_Amount_Investor, 19)"
   ]
  },
  {
   "cell_type": "markdown",
   "metadata": {
    "id": "0btY6jUNo3io"
   },
   "source": [
    "We see a similar behavior of the histograms of train and test, also in this feature.\n",
    "It is good news.\n",
    "Let's measure it empirically."
   ]
  },
  {
   "cell_type": "code",
   "execution_count": 136,
   "metadata": {
    "colab": {
     "base_uri": "https://localhost:8080/"
    },
    "id": "-ZeC4QdQo3ip",
    "outputId": "06262c9e-d098-4ae3-c479-93122690a717"
   },
   "outputs": [
    {
     "name": "stdout",
     "output_type": "stream",
     "text": [
      "Difference between histograms: 0.0063\n",
      "The difference is below the threshold 0.01 that we set\n"
     ]
    }
   ],
   "source": [
    "printDifference(df_loan_default_prediction_train,df_loan_default_prediction_test,feature_Funded_Amount_Investor, 19)"
   ]
  },
  {
   "cell_type": "markdown",
   "metadata": {
    "id": "V4gQM7dJo3io"
   },
   "source": [
    "Below, we find that the proportion of each bin in train is very similar to the bin in test. In fact, we can see below that the mean difference is 0.0063. We will check the metric on the default histogram with 10 bins."
   ]
  },
  {
   "cell_type": "code",
   "execution_count": 137,
   "metadata": {
    "colab": {
     "base_uri": "https://localhost:8080/",
     "height": 300
    },
    "id": "RMoeSq656Tpn",
    "outputId": "b6a52c49-71df-4c45-c2d8-a823d832e038"
   },
   "outputs": [
    {
     "name": "stdout",
     "output_type": "stream",
     "text": [
      "Difference between histograms: 0.00993\n",
      "The difference is below the threshold 0.01 that we set\n"
     ]
    },
    {
     "data": {
      "image/png": "[encoded data removed]",
      "text/plain": [
       "<Figure size 432x288 with 1 Axes>"
      ]
     },
     "metadata": {
      "needs_background": "light"
     },
     "output_type": "display_data"
    }
   ],
   "source": [
    "df_loan_default_prediction_train[feature_Funded_Amount_Investor].hist()\n",
    "df_loan_default_prediction_test[feature_Funded_Amount_Investor].hist()\n",
    "printDifference(df_loan_default_prediction_train,df_loan_default_prediction_test,feature_Funded_Amount_Investor, 10)"
   ]
  },
  {
   "cell_type": "markdown",
   "metadata": {
    "id": "NgLTRPQ2o3iq"
   },
   "source": [
    "Just for comparison, if we were to make a histogram with the automatic bins size of hist method (=10) - the baseline approach, we would get mean difference of 0.00993 between train and test bins:"
   ]
  },
  {
   "cell_type": "markdown",
   "metadata": {
    "id": "I5BjgqJ06Tpq"
   },
   "source": [
    "According to our measure, in this feature our method (which gives mean difference of 0.0063 between train and test) is more accurate than the baseline approach which gives mean difference of 0.00993 which is close to the threshold of 0.01 ."
   ]
  },
  {
   "cell_type": "markdown",
   "metadata": {
    "id": "naR-B_Hl-JYc"
   },
   "source": [
    "\n",
    "###Numerical feature : Debit to Income"
   ]
  },
  {
   "cell_type": "code",
   "execution_count": 138,
   "metadata": {
    "colab": {
     "base_uri": "https://localhost:8080/"
    },
    "id": "QXKRqv97Bpcr",
    "outputId": "7b88956b-ca5b-4a4f-8997-d7a7271c0513"
   },
   "outputs": [
    {
     "name": "stdout",
     "output_type": "stream",
     "text": [
      "count    67463.000000\n",
      "mean        23.299241\n",
      "std          8.451824\n",
      "min          0.675299\n",
      "25%         16.756416\n",
      "50%         22.656658\n",
      "75%         30.048400\n",
      "max         39.629862\n",
      "Name: Debit to Income, dtype: float64\n"
     ]
    }
   ],
   "source": [
    "feature_Debit_to_Income='Debit to Income'\n",
    "print(df_loan_default_prediction_train[feature_Debit_to_Income].describe())"
   ]
  },
  {
   "cell_type": "code",
   "execution_count": 139,
   "metadata": {
    "id": "TdnzFr7YbzoD"
   },
   "outputs": [
    {
     "name": "stdout",
     "output_type": "stream",
     "text": [
      "Feature name:  Debit to Income\n",
      "Amplitude of values: 67462.324700914\n",
      "Nb of different values in the feature:  67454\n",
      "Range of values: 0.675299086  - 39.62986189\n",
      "Nb of samples for this feature : 67463\n"
     ]
    }
   ],
   "source": [
    "utils.getFeatureInfo(df_loan_default_prediction_train, feature_Debit_to_Income)"
   ]
  },
  {
   "cell_type": "markdown",
   "metadata": {
    "id": "dGWiopo1Bpct"
   },
   "source": [
    "Build histogram with our method"
   ]
  },
  {
   "cell_type": "code",
   "execution_count": 140,
   "metadata": {
    "colab": {
     "base_uri": "https://localhost:8080/",
     "height": 294
    },
    "id": "29dR4nF_Bpcu",
    "outputId": "0c85d648-475e-4660-8987-2440daea59dd"
   },
   "outputs": [
    {
     "data": {
      "text/plain": [
       "19"
      ]
     },
     "execution_count": 140,
     "metadata": {},
     "output_type": "execute_result"
    },
    {
     "data": {
      "image/png": "[encoded data removed]",
      "text/plain": [
       "<Figure size 432x288 with 1 Axes>"
      ]
     },
     "metadata": {
      "needs_background": "light"
     },
     "output_type": "display_data"
    }
   ],
   "source": [
    "print_result(df_loan_default_prediction_train,[feature_Debit_to_Income], dataset + \" train\")"
   ]
  },
  {
   "cell_type": "markdown",
   "metadata": {
    "id": "-qKz9VMABpcu"
   },
   "source": [
    "According to our solution the best bins size is 19 (which calculated by sturges method again).\n"
   ]
  },
  {
   "cell_type": "markdown",
   "metadata": {
    "id": "RsHwYYbSDe22"
   },
   "source": [
    "###Test the method with test set\n",
    "let's test if this choice (=19) is also good for the test set.\n",
    "\n",
    "Primarily, let's see the histogram of test set with bins=19."
   ]
  },
  {
   "cell_type": "code",
   "execution_count": 141,
   "metadata": {
    "colab": {
     "base_uri": "https://localhost:8080/",
     "height": 282
    },
    "id": "D3Fy6tHdDe23",
    "outputId": "7f6a13bc-d108-4861-b5f7-04c0a73793ba"
   },
   "outputs": [
    {
     "data": {
      "text/plain": [
       "<AxesSubplot:>"
      ]
     },
     "execution_count": 141,
     "metadata": {},
     "output_type": "execute_result"
    },
    {
     "data": {
      "image/png": "[encoded data removed]",
      "text/plain": [
       "<Figure size 432x288 with 1 Axes>"
      ]
     },
     "metadata": {
      "needs_background": "light"
     },
     "output_type": "display_data"
    }
   ],
   "source": [
    "df_loan_default_prediction_test['Debit to Income'].hist(bins=19)"
   ]
  },
  {
   "cell_type": "markdown",
   "metadata": {
    "id": "Hbu8NB28De24"
   },
   "source": [
    "Let's see and compare the histograms of train and test"
   ]
  },
  {
   "cell_type": "code",
   "execution_count": 142,
   "metadata": {
    "colab": {
     "base_uri": "https://localhost:8080/",
     "height": 367
    },
    "id": "ioQbqFJCDe25",
    "outputId": "5eefa0e9-8b2c-4032-aad4-da58f0764f1a"
   },
   "outputs": [
    {
     "name": "stdout",
     "output_type": "stream",
     "text": [
      "XAxis(90.0,45.0)\n"
     ]
    },
    {
     "data": {
      "image/png": "[encoded data removed]",
      "text/plain": [
       "<Figure size 720x360 with 1 Axes>"
      ]
     },
     "metadata": {
      "needs_background": "light"
     },
     "output_type": "display_data"
    }
   ],
   "source": [
    "h1, h2= plot_dual_histogram(df_loan_default_prediction_train, df_loan_default_prediction_test, feature_Debit_to_Income, 19)"
   ]
  },
  {
   "cell_type": "markdown",
   "metadata": {
    "id": "N-fsSMMjDe26"
   },
   "source": [
    "We see a similar behavior of the histograms of train and test, also in this feature.\n",
    "It is good news.\n",
    "Let's measure it empirically"
   ]
  },
  {
   "cell_type": "code",
   "execution_count": 143,
   "metadata": {
    "colab": {
     "base_uri": "https://localhost:8080/"
    },
    "id": "173NlXZSDe27",
    "outputId": "d9acac44-0caf-451e-b52b-a51afbb4a89b"
   },
   "outputs": [
    {
     "name": "stdout",
     "output_type": "stream",
     "text": [
      "Difference between histograms: 0.00535\n",
      "The difference is below the threshold 0.01 that we set\n"
     ]
    }
   ],
   "source": [
    "printDifference(df_loan_default_prediction_train,df_loan_default_prediction_test,feature_Debit_to_Income, 19)"
   ]
  },
  {
   "cell_type": "markdown",
   "metadata": {
    "id": "BoD9Avz8De26"
   },
   "source": [
    "Below, we find that the proportion of each bin in train is very similar to the bin in test. In fact, we can see below that the mean difference is 0.00535.\n",
    "Comparison with default method:"
   ]
  },
  {
   "cell_type": "code",
   "execution_count": 144,
   "metadata": {
    "colab": {
     "base_uri": "https://localhost:8080/",
     "height": 301
    },
    "id": "BDfVtUNKFeei",
    "outputId": "2cfb1056-7341-40e3-afe0-02ac070a3ee1"
   },
   "outputs": [
    {
     "name": "stdout",
     "output_type": "stream",
     "text": [
      "Difference between histograms: 0.00961\n",
      "The difference is below the threshold 0.01 that we set\n"
     ]
    },
    {
     "data": {
      "image/png": "[encoded data removed]",
      "text/plain": [
       "<Figure size 432x288 with 1 Axes>"
      ]
     },
     "metadata": {
      "needs_background": "light"
     },
     "output_type": "display_data"
    }
   ],
   "source": [
    "df_loan_default_prediction_train[feature_Debit_to_Income].hist()\n",
    "df_loan_default_prediction_test[feature_Debit_to_Income].hist()\n",
    "printDifference(df_loan_default_prediction_train,df_loan_default_prediction_test,feature_Debit_to_Income, 10)"
   ]
  },
  {
   "cell_type": "markdown",
   "metadata": {
    "id": "t0mJB5PCFeeh"
   },
   "source": [
    "- default method : difference is 0.0096\n",
    "- our method :difference is 0.005"
   ]
  },
  {
   "cell_type": "markdown",
   "metadata": {
    "id": "rqr-jzbuFeej"
   },
   "source": [
    "According to ourmetric, our method (which gives mean difference of 0.00535 between train and test) is better (less difference between train and test) than the baseline approach which gives mean difference of 0.00961 which is close to the threshold we determined 0.01 ."
   ]
  },
  {
   "cell_type": "markdown",
   "metadata": {
    "id": "CzfA9vY2e9B6"
   },
   "source": [
    "# Third dataset : iris flower and feature sepal width"
   ]
  },
  {
   "cell_type": "code",
   "execution_count": 145,
   "metadata": {
    "colab": {
     "base_uri": "https://localhost:8080/",
     "height": 294
    },
    "id": "QdL75QMVe8aL",
    "outputId": "a5df4748-e1b4-4b5a-cc60-8d8875abfbab"
   },
   "outputs": [
    {
     "data": {
      "text/plain": [
       "9"
      ]
     },
     "execution_count": 145,
     "metadata": {},
     "output_type": "execute_result"
    },
    {
     "data": {
      "image/png": "[encoded data removed]",
      "text/plain": [
       "<Figure size 432x288 with 1 Axes>"
      ]
     },
     "metadata": {
      "needs_background": "light"
     },
     "output_type": "display_data"
    }
   ],
   "source": [
    "data, target = sklearn.datasets.load_iris(return_X_y=True, as_frame=True)\n",
    "X_train,X_test,y_train,y_test=train_test_split(data,target,test_size=0.3,random_state=42)\n",
    "print_result(X_train,[\"sepal width (cm)\"], \"iris dataset - train set\")"
   ]
  },
  {
   "cell_type": "code",
   "execution_count": 146,
   "metadata": {
    "colab": {
     "base_uri": "https://localhost:8080/",
     "height": 367
    },
    "id": "hl_2VpKyhCyT",
    "outputId": "b3b3a373-97c9-46e4-8a63-56e05f0d05af"
   },
   "outputs": [
    {
     "name": "stdout",
     "output_type": "stream",
     "text": [
      "XAxis(90.0,45.0)\n"
     ]
    },
    {
     "data": {
      "image/png": "[encoded data removed]",
      "text/plain": [
       "<Figure size 720x360 with 1 Axes>"
      ]
     },
     "metadata": {
      "needs_background": "light"
     },
     "output_type": "display_data"
    }
   ],
   "source": [
    "h1, h2= plot_dual_histogram(X_train, X_test,\"sepal width (cm)\", 9)"
   ]
  },
  {
   "cell_type": "code",
   "execution_count": 147,
   "metadata": {
    "colab": {
     "base_uri": "https://localhost:8080/"
    },
    "id": "8evg9IGWhStG",
    "outputId": "c3dcf4a4-65ec-407b-addd-447993d01182"
   },
   "outputs": [
    {
     "name": "stdout",
     "output_type": "stream",
     "text": [
      "Difference between histograms: 0.03739\n",
      "The difference is above the threshold 0.01 that we set\n"
     ]
    }
   ],
   "source": [
    "printDifference(X_train,X_test,\"sepal width (cm)\", 9)"
   ]
  },
  {
   "cell_type": "code",
   "execution_count": 148,
   "metadata": {
    "colab": {
     "base_uri": "https://localhost:8080/",
     "height": 301
    },
    "id": "OpJEZfVJhhYY",
    "outputId": "1df02b9a-7d57-4e22-b237-b15ddb1bf924"
   },
   "outputs": [
    {
     "name": "stdout",
     "output_type": "stream",
     "text": [
      "Difference between histograms: 0.02984\n",
      "The difference is above the threshold 0.01 that we set\n"
     ]
    },
    {
     "data": {
      "image/png": "[encoded data removed]",
      "text/plain": [
       "<Figure size 432x288 with 1 Axes>"
      ]
     },
     "metadata": {
      "needs_background": "light"
     },
     "output_type": "display_data"
    }
   ],
   "source": [
    "X_train[\"sepal width (cm)\"].hist()\n",
    "X_test[\"sepal width (cm)\"].hist()\n",
    "printDifference(X_train,X_test,\"sepal width (cm)\", 10)"
   ]
  },
  {
   "cell_type": "markdown",
   "metadata": {
    "id": "z_HygkCShzDB"
   },
   "source": [
    "For this feature, the default method is prefeferable because 10 bins give less difference between test and train set."
   ]
  },
  {
   "cell_type": "markdown",
   "metadata": {
    "id": "h434cOfQiPwY"
   },
   "source": [
    "# Fourth dataset: wine data set and alcohol feature"
   ]
  },
  {
   "cell_type": "code",
   "execution_count": 149,
   "metadata": {
    "colab": {
     "base_uri": "https://localhost:8080/",
     "height": 270
    },
    "id": "1gvRQdiEix7f",
    "outputId": "35b2a74e-54da-4d96-cf87-345ee0d1ebcd"
   },
   "outputs": [
    {
     "data": {
      "text/html": [
       "<div>\n",
       "<style scoped>\n",
       "    .dataframe tbody tr th:only-of-type {\n",
       "        vertical-align: middle;\n",
       "    }\n",
       "\n",
       "    .dataframe tbody tr th {\n",
       "        vertical-align: top;\n",
       "    }\n",
       "\n",
       "    .dataframe thead th {\n",
       "        text-align: right;\n",
       "    }\n",
       "</style>\n",
       "<table border=\"1\" class=\"dataframe\">\n",
       "  <thead>\n",
       "    <tr style=\"text-align: right;\">\n",
       "      <th></th>\n",
       "      <th>alcohol</th>\n",
       "      <th>malic_acid</th>\n",
       "      <th>ash</th>\n",
       "      <th>alcalinity_of_ash</th>\n",
       "      <th>magnesium</th>\n",
       "      <th>total_phenols</th>\n",
       "      <th>flavanoids</th>\n",
       "      <th>nonflavanoid_phenols</th>\n",
       "      <th>proanthocyanins</th>\n",
       "      <th>color_intensity</th>\n",
       "      <th>hue</th>\n",
       "      <th>od280/od315_of_diluted_wines</th>\n",
       "      <th>proline</th>\n",
       "    </tr>\n",
       "  </thead>\n",
       "  <tbody>\n",
       "    <tr>\n",
       "      <th>95</th>\n",
       "      <td>12.47</td>\n",
       "      <td>1.52</td>\n",
       "      <td>2.20</td>\n",
       "      <td>19.0</td>\n",
       "      <td>162.0</td>\n",
       "      <td>2.50</td>\n",
       "      <td>2.27</td>\n",
       "      <td>0.32</td>\n",
       "      <td>3.28</td>\n",
       "      <td>2.60</td>\n",
       "      <td>1.16</td>\n",
       "      <td>2.63</td>\n",
       "      <td>937.0</td>\n",
       "    </tr>\n",
       "    <tr>\n",
       "      <th>67</th>\n",
       "      <td>12.37</td>\n",
       "      <td>1.17</td>\n",
       "      <td>1.92</td>\n",
       "      <td>19.6</td>\n",
       "      <td>78.0</td>\n",
       "      <td>2.11</td>\n",
       "      <td>2.00</td>\n",
       "      <td>0.27</td>\n",
       "      <td>1.04</td>\n",
       "      <td>4.68</td>\n",
       "      <td>1.12</td>\n",
       "      <td>3.48</td>\n",
       "      <td>510.0</td>\n",
       "    </tr>\n",
       "    <tr>\n",
       "      <th>39</th>\n",
       "      <td>14.22</td>\n",
       "      <td>3.99</td>\n",
       "      <td>2.51</td>\n",
       "      <td>13.2</td>\n",
       "      <td>128.0</td>\n",
       "      <td>3.00</td>\n",
       "      <td>3.04</td>\n",
       "      <td>0.20</td>\n",
       "      <td>2.08</td>\n",
       "      <td>5.10</td>\n",
       "      <td>0.89</td>\n",
       "      <td>3.53</td>\n",
       "      <td>760.0</td>\n",
       "    </tr>\n",
       "    <tr>\n",
       "      <th>10</th>\n",
       "      <td>14.10</td>\n",
       "      <td>2.16</td>\n",
       "      <td>2.30</td>\n",
       "      <td>18.0</td>\n",
       "      <td>105.0</td>\n",
       "      <td>2.95</td>\n",
       "      <td>3.32</td>\n",
       "      <td>0.22</td>\n",
       "      <td>2.38</td>\n",
       "      <td>5.75</td>\n",
       "      <td>1.25</td>\n",
       "      <td>3.17</td>\n",
       "      <td>1510.0</td>\n",
       "    </tr>\n",
       "    <tr>\n",
       "      <th>104</th>\n",
       "      <td>12.51</td>\n",
       "      <td>1.73</td>\n",
       "      <td>1.98</td>\n",
       "      <td>20.5</td>\n",
       "      <td>85.0</td>\n",
       "      <td>2.20</td>\n",
       "      <td>1.92</td>\n",
       "      <td>0.32</td>\n",
       "      <td>1.48</td>\n",
       "      <td>2.94</td>\n",
       "      <td>1.04</td>\n",
       "      <td>3.57</td>\n",
       "      <td>672.0</td>\n",
       "    </tr>\n",
       "  </tbody>\n",
       "</table>\n",
       "</div>"
      ],
      "text/plain": [
       "     alcohol  malic_acid   ash  alcalinity_of_ash  magnesium  total_phenols  \\\n",
       "95     12.47        1.52  2.20               19.0      162.0           2.50   \n",
       "67     12.37        1.17  1.92               19.6       78.0           2.11   \n",
       "39     14.22        3.99  2.51               13.2      128.0           3.00   \n",
       "10     14.10        2.16  2.30               18.0      105.0           2.95   \n",
       "104    12.51        1.73  1.98               20.5       85.0           2.20   \n",
       "\n",
       "     flavanoids  nonflavanoid_phenols  proanthocyanins  color_intensity   hue  \\\n",
       "95         2.27                  0.32             3.28             2.60  1.16   \n",
       "67         2.00                  0.27             1.04             4.68  1.12   \n",
       "39         3.04                  0.20             2.08             5.10  0.89   \n",
       "10         3.32                  0.22             2.38             5.75  1.25   \n",
       "104        1.92                  0.32             1.48             2.94  1.04   \n",
       "\n",
       "     od280/od315_of_diluted_wines  proline  \n",
       "95                           2.63    937.0  \n",
       "67                           3.48    510.0  \n",
       "39                           3.53    760.0  \n",
       "10                           3.17   1510.0  \n",
       "104                          3.57    672.0  "
      ]
     },
     "execution_count": 149,
     "metadata": {},
     "output_type": "execute_result"
    }
   ],
   "source": [
    "data, target = sklearn.datasets.load_wine(return_X_y=True, as_frame=True)\n",
    "data, target = shuffle(data, target)\n",
    "X_train,X_test,y_train,y_test=train_test_split(data,target,test_size=0.3)\n",
    "X_train.head()"
   ]
  },
  {
   "cell_type": "code",
   "execution_count": 150,
   "metadata": {
    "colab": {
     "base_uri": "https://localhost:8080/",
     "height": 294
    },
    "id": "FBRyNX3tjl-7",
    "outputId": "91c04d8e-9418-4ce4-debb-38ae5c16dba7"
   },
   "outputs": [
    {
     "data": {
      "image/png": "[encoded data removed]",
      "text/plain": [
       "<Figure size 432x288 with 1 Axes>"
      ]
     },
     "metadata": {
      "needs_background": "light"
     },
     "output_type": "display_data"
    }
   ],
   "source": [
    "b= print_result(X_train,[\"alcohol\"], \"wine dataset - train set\")"
   ]
  },
  {
   "cell_type": "code",
   "execution_count": 151,
   "metadata": {
    "colab": {
     "base_uri": "https://localhost:8080/",
     "height": 367
    },
    "id": "NQBBy_Qnix7g",
    "outputId": "8aaaaf9c-81ad-49fa-8c41-d7b71e8689c2"
   },
   "outputs": [
    {
     "name": "stdout",
     "output_type": "stream",
     "text": [
      "XAxis(90.0,45.0)\n"
     ]
    },
    {
     "data": {
      "image/png": "[encoded data removed]",
      "text/plain": [
       "<Figure size 720x360 with 1 Axes>"
      ]
     },
     "metadata": {
      "needs_background": "light"
     },
     "output_type": "display_data"
    }
   ],
   "source": [
    "h1, h2= plot_dual_histogram(X_train, X_test,\"alcohol\", b)"
   ]
  },
  {
   "cell_type": "code",
   "execution_count": 152,
   "metadata": {
    "colab": {
     "base_uri": "https://localhost:8080/"
    },
    "id": "Bygu-p--ix7g",
    "outputId": "544dc9dc-7ad5-4abc-fee3-7584e5bdd221"
   },
   "outputs": [
    {
     "name": "stdout",
     "output_type": "stream",
     "text": [
      "Difference between histograms: 0.04996\n",
      "The difference is above the threshold 0.01 that we set\n"
     ]
    }
   ],
   "source": [
    "printDifference(X_train,X_test,\"alcohol\", b)"
   ]
  },
  {
   "cell_type": "code",
   "execution_count": 153,
   "metadata": {
    "colab": {
     "base_uri": "https://localhost:8080/",
     "height": 300
    },
    "id": "n7dkimEqix7g",
    "outputId": "43595ae8-79a5-4485-f7c6-f0d6a1e66bff"
   },
   "outputs": [
    {
     "name": "stdout",
     "output_type": "stream",
     "text": [
      "Difference between histograms: 0.03369\n",
      "The difference is above the threshold 0.01 that we set\n"
     ]
    },
    {
     "data": {
      "image/png": "[encoded data removed]",
      "text/plain": [
       "<Figure size 432x288 with 1 Axes>"
      ]
     },
     "metadata": {
      "needs_background": "light"
     },
     "output_type": "display_data"
    }
   ],
   "source": [
    "X_train[\"alcohol\"].hist()\n",
    "X_test[\"alcohol\"].hist()\n",
    "printDifference(X_train,X_test,\"alcohol\", 10)"
   ]
  },
  {
   "cell_type": "markdown",
   "metadata": {
    "id": "CfE202mXlKNp"
   },
   "source": [
    "- with 10 bins default: difference is 0.04564\n",
    "- our method : differeence 0.044\n",
    "So results are similar between the two methods"
   ]
  },
  {
   "cell_type": "markdown",
   "metadata": {
    "id": "6xpX8UyfcrdC"
   },
   "source": [
    "# Conclusions From the Tests Above"
   ]
  },
  {
   "cell_type": "markdown",
   "metadata": {
    "id": "IKj073DwdDVB"
   },
   "source": [
    "It seems that our approach/solution gives us better results of histograms than those of the baseline approach of matplotlib library function (bins=10).\n"
   ]
  },
  {
   "cell_type": "markdown",
   "metadata": {
    "id": "JWJDZQK_j2xS"
   },
   "source": [
    " In addition, the method propose smooth histogram which are easy to read by the dta analyst and can understan the general distribution of the data."
   ]
  }
 ],
 "metadata": {
  "colab": {
   "provenance": [],
   "toc_visible": true
  },
  "kernelspec": {
   "display_name": "Python 3",
   "language": "python",
   "name": "python3"
  },
  "language_info": {
   "codemirror_mode": {
    "name": "ipython",
    "version": 3
   },
   "file_extension": ".py",
   "mimetype": "text/x-python",
   "name": "python",
   "nbconvert_exporter": "python",
   "pygments_lexer": "ipython3",
   "version": "3.8.8"
  }
 },
 "nbformat": 4,
 "nbformat_minor": 1
}
